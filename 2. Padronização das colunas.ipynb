{
 "cells": [
  {
   "cell_type": "code",
   "execution_count": 1,
   "id": "initial_id",
   "metadata": {
    "ExecuteTime": {
     "end_time": "2025-02-19T19:14:17.109306Z",
     "start_time": "2025-02-19T19:14:17.106284Z"
    },
    "collapsed": true
   },
   "outputs": [],
   "source": [
    "import pandas as pd"
   ]
  },
  {
   "cell_type": "code",
   "execution_count": 2,
   "id": "18dda312b8422c67",
   "metadata": {
    "ExecuteTime": {
     "end_time": "2025-02-19T19:14:17.868041Z",
     "start_time": "2025-02-19T19:14:17.152985Z"
    }
   },
   "outputs": [],
   "source": [
    "bourbon = pd.read_csv(\"datasets/bourbon.csv\")\n",
    "continental = pd.read_csv(\"datasets/continental.csv\")\n",
    "foz_plaza = pd.read_csv(\"datasets/foz_plaza.csv\")\n",
    "nadai = pd.read_csv(\"datasets/nadai.csv\")\n",
    "taroba = pd.read_csv(\"datasets/taroba.csv\")\n",
    "viale_cataratas = pd.read_csv(\"datasets/viale_cataratas.csv\")\n",
    "viale_tower = pd.read_csv(\"datasets/viale_tower.csv\")"
   ]
  },
  {
   "cell_type": "markdown",
   "id": "3fbf30c09e587b0b",
   "metadata": {},
   "source": [
    "## Os datasets de celulares possuem as mesmas colunas"
   ]
  },
  {
   "cell_type": "markdown",
   "id": "f852fe4c6485eb91",
   "metadata": {},
   "source": [
    "## Padronizando as colunas"
   ]
  },
  {
   "cell_type": "code",
   "execution_count": 3,
   "id": "b7bb6be3000f532d",
   "metadata": {},
   "outputs": [],
   "source": [
    "colunas_desejadas = ['text', 'class']\n",
    "dfs = [bourbon, continental, foz_plaza, nadai, taroba, viale_cataratas, viale_tower]\n",
    "\n",
    "dfs = [df[['description', 'sentiment', 'review_posted_at', 'category']].rename(columns={'description': 'text', 'sentiment': 'class', 'review_posted_at':'date', 'category': 'aspect'}) for df in dfs]\n",
    "\n",
    "bourbon, continental, foz_plaza, nadai, taroba, viale_cataratas, viale_tower = dfs\n"
   ]
  },
  {
   "cell_type": "markdown",
   "id": "cbde127813526c9e",
   "metadata": {},
   "source": [
    "## Conferindo"
   ]
  },
  {
   "cell_type": "markdown",
   "id": "ef83e400f0e04232",
   "metadata": {},
   "source": [
    "## Salvando os datasets"
   ]
  },
  {
   "cell_type": "code",
   "execution_count": 4,
   "id": "d90b994b4f702c68",
   "metadata": {
    "ExecuteTime": {
     "end_time": "2025-02-19T19:18:25.364683Z",
     "start_time": "2025-02-19T19:18:23.446798Z"
    }
   },
   "outputs": [],
   "source": [
    "FOLDER = \"datasets padronizados\"\n",
    "bourbon.to_csv(f\"{FOLDER}/bourbon.csv\", index=False)\n",
    "continental.to_csv(f\"{FOLDER}/continental.csv\", index=False)\n",
    "foz_plaza.to_csv(f\"{FOLDER}/foz_plaza.csv\", index=False)\n",
    "nadai.to_csv(f\"{FOLDER}/nadai.csv\", index=False)\n",
    "taroba.to_csv(f\"{FOLDER}/taroba.csv\", index=False)\n",
    "viale_cataratas.to_csv(f\"{FOLDER}/viale_cataratas.csv\", index=False)\n",
    "viale_tower.to_csv(f\"{FOLDER}/viale_tower.csv\", index=False)"
   ]
  }
 ],
 "metadata": {
  "kernelspec": {
   "display_name": ".venv",
   "language": "python",
   "name": "python3"
  },
  "language_info": {
   "codemirror_mode": {
    "name": "ipython",
    "version": 3
   },
   "file_extension": ".py",
   "mimetype": "text/x-python",
   "name": "python",
   "nbconvert_exporter": "python",
   "pygments_lexer": "ipython3",
   "version": "3.13.2"
  }
 },
 "nbformat": 4,
 "nbformat_minor": 5
}
