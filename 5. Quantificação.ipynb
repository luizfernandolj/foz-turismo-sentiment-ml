{
 "cells": [
  {
   "cell_type": "code",
   "execution_count": 98,
   "id": "03713c11",
   "metadata": {},
   "outputs": [],
   "source": [
    "from mlquantify.methods import *\n",
    "import mlquantify as mq\n",
    "from mlquantify.evaluation.protocol import APP\n",
    "from sklearn.model_selection import train_test_split\n",
    "import numpy as np\n",
    "from joblib import Parallel, delayed\n",
    "import os"
   ]
  },
  {
   "cell_type": "code",
   "execution_count": 99,
   "id": "565862a7",
   "metadata": {},
   "outputs": [
    {
     "data": {
      "text/plain": [
       "['bourbon.csv',\n",
       " 'continental.csv',\n",
       " 'foz_plaza.csv',\n",
       " 'nadai.csv',\n",
       " 'taroba.csv',\n",
       " 'viale_cataratas.csv',\n",
       " 'viale_tower.csv']"
      ]
     },
     "execution_count": 99,
     "metadata": {},
     "output_type": "execute_result"
    }
   ],
   "source": [
    "FILES = os.listdir('datasets com score')\n",
    "FILES"
   ]
  },
  {
   "cell_type": "code",
   "execution_count": 100,
   "id": "78b341d8",
   "metadata": {},
   "outputs": [],
   "source": [
    "class HotelProtocol(APP):\n",
    "    def __init__(self,     \n",
    "                 models, \n",
    "                 batch_size,\n",
    "                 learner = None, \n",
    "                 n_prevs = 50,\n",
    "                 n_iterations = 1,\n",
    "                 n_jobs = -1,\n",
    "                 random_state = 32,\n",
    "                 verbose = False,\n",
    "                 return_type = \"predictions\",\n",
    "                 measures = None):\n",
    "        \n",
    "        super().__init__(models=models,\n",
    "                         batch_size=batch_size,\n",
    "                         learner=learner,\n",
    "                         n_jobs=n_jobs,\n",
    "                         random_state=random_state,\n",
    "                         verbose=verbose,\n",
    "                         return_type=return_type,\n",
    "                         measures=measures)\n",
    "        self.n_prevs = n_prevs\n",
    "        self.batch_size = batch_size if isinstance(batch_size, list) else [batch_size]\n",
    "        self.n_prevs = n_prevs\n",
    "        self.n_iterations = n_iterations\n",
    "    \n",
    "    \n",
    "    def fit(self, X_train, y_train, train_scores):\n",
    "        args = ((model, X_train, y_train, train_scores) for model in self.models)\n",
    "        \n",
    "        wrapper = tqdm if self.verbose else lambda x, **kwargs: x\n",
    "    \n",
    "        self.models = Parallel(n_jobs=self.n_jobs)(  # Parallel processing of models\n",
    "            delayed(self._delayed_fit)(*arg) for arg in wrapper(args, desc=\"Fitting models\", total=len(self.models))\n",
    "        )\n",
    "        return self\n",
    "    \n",
    "    \n",
    "    def _predict(self, iteration, X, y, model, prev, batch_size, verbose):\n",
    "        model_name = model.__class__.__name__\n",
    "        if model_name == \"Ensemble\" and isinstance(model.base_quantifier, Quantifier):\n",
    "            model_name = f\"{model.__class__.__name__}_{model.base_quantifier.__class__.__name__}_{model.size}\"\n",
    "        \n",
    "        X_sample, _ = self._new_sample(X, y, prev, batch_size)\n",
    "          \n",
    "        posteriors_test = pd.DataFrame({\n",
    "            '0': abs(1 - X_sample[\"score\"]),\n",
    "            '1': X_sample[\"score\"]\n",
    "        })\n",
    "        \n",
    "        X_sample = X_sample.drop(columns=[\"score\"])\n",
    "        \n",
    "        y_pred = (posteriors_test.iloc[:, 1] > 0.5).astype(int)\n",
    "        \n",
    "        \n",
    "        mq.set_arguments(posteriors_test=posteriors_test,\n",
    "                      y_pred=y_pred)\n",
    "        \n",
    "        prev_pred = np.asarray(list(model.predict(X_sample).values()))\n",
    "        \n",
    "        return (iteration+1, model_name, prev, prev_pred, batch_size)\n",
    "    \n",
    "    \n",
    "    \n",
    "    \n",
    "    \n",
    "    def _delayed_fit(self, model, X_train, y_train, train_scores):\n",
    "        model_name = model.__class__.__name__\n",
    "        if model_name == \"Ensemble\" and isinstance(model.base_quantifier, Quantifier):\n",
    "            model_name = f\"{model.__class__.__name__}_{model.base_quantifier.__class__.__name__}_{model.size}\"\n",
    "\n",
    "        y_train_pred = (train_scores.iloc[:, 1] > 0.5).astype(int)\n",
    "\n",
    "        mq.set_arguments(posteriors_train=train_scores,\n",
    "                        y_labels=y_train,\n",
    "                        y_pred_train=y_train_pred\n",
    "                        )\n",
    "        model = model.fit(X=X_train, y=y_train)\n",
    "\n",
    "        return model"
   ]
  },
  {
   "cell_type": "code",
   "execution_count": 101,
   "id": "5ba8c251",
   "metadata": {
    "vscode": {
     "languageId": "ruby"
    }
   },
   "outputs": [
    {
     "name": "stdout",
     "output_type": "stream",
     "text": [
      "Processing aspect 1/5 -> Atendimento da equipe\n",
      "Train samples: 367, Test samples: 158\n"
     ]
    },
    {
     "name": "stderr",
     "output_type": "stream",
     "text": [
      "Running APP: 100%|██████████| 4500/4500 [00:55<00:00, 80.70it/s]\n"
     ]
    },
    {
     "name": "stdout",
     "output_type": "stream",
     "text": [
      "Processing aspect 2/5 -> Quarto\n",
      "Train samples: 510, Test samples: 219\n"
     ]
    },
    {
     "name": "stderr",
     "output_type": "stream",
     "text": [
      "Running APP: 100%|██████████| 4500/4500 [00:58<00:00, 77.35it/s]\n"
     ]
    },
    {
     "name": "stdout",
     "output_type": "stream",
     "text": [
      "Processing aspect 3/5 -> Café da manhã\n",
      "Train samples: 266, Test samples: 115\n"
     ]
    },
    {
     "name": "stderr",
     "output_type": "stream",
     "text": [
      "Running APP: 100%|██████████| 4500/4500 [00:55<00:00, 80.71it/s]\n"
     ]
    },
    {
     "name": "stdout",
     "output_type": "stream",
     "text": [
      "Processing aspect 4/5 -> Localização\n",
      "Train samples: 142, Test samples: 61\n"
     ]
    },
    {
     "name": "stderr",
     "output_type": "stream",
     "text": [
      "Running APP: 100%|██████████| 4500/4500 [00:51<00:00, 86.66it/s]\n"
     ]
    },
    {
     "name": "stdout",
     "output_type": "stream",
     "text": [
      "Processing aspect 5/5 -> Áreas comuns\n",
      "Train samples: 158, Test samples: 68\n"
     ]
    },
    {
     "name": "stderr",
     "output_type": "stream",
     "text": [
      "Running APP: 100%|██████████| 4500/4500 [00:52<00:00, 86.33it/s]\n"
     ]
    },
    {
     "name": "stdout",
     "output_type": "stream",
     "text": [
      "Processing aspect 1/2 -> Quarto\n",
      "Train samples: 203, Test samples: 88\n"
     ]
    },
    {
     "name": "stderr",
     "output_type": "stream",
     "text": [
      "Running APP: 100%|██████████| 4500/4500 [00:52<00:00, 85.39it/s]\n"
     ]
    },
    {
     "name": "stdout",
     "output_type": "stream",
     "text": [
      "Processing aspect 2/2 -> Atendimento da equipe\n",
      "Train samples: 153, Test samples: 66\n"
     ]
    },
    {
     "name": "stderr",
     "output_type": "stream",
     "text": [
      "Running APP: 100%|██████████| 4500/4500 [00:52<00:00, 86.10it/s]\n"
     ]
    },
    {
     "name": "stdout",
     "output_type": "stream",
     "text": [
      "Processing aspect 1/3 -> Áreas comuns\n",
      "Train samples: 140, Test samples: 61\n"
     ]
    },
    {
     "name": "stderr",
     "output_type": "stream",
     "text": [
      "Running APP: 100%|██████████| 4500/4500 [00:51<00:00, 86.59it/s]\n"
     ]
    },
    {
     "name": "stdout",
     "output_type": "stream",
     "text": [
      "Processing aspect 2/3 -> Quarto\n",
      "Train samples: 233, Test samples: 100\n"
     ]
    },
    {
     "name": "stderr",
     "output_type": "stream",
     "text": [
      "Running APP: 100%|██████████| 4500/4500 [00:53<00:00, 84.40it/s]\n"
     ]
    },
    {
     "name": "stdout",
     "output_type": "stream",
     "text": [
      "Processing aspect 3/3 -> Atendimento da equipe\n",
      "Train samples: 145, Test samples: 63\n"
     ]
    },
    {
     "name": "stderr",
     "output_type": "stream",
     "text": [
      "Running APP: 100%|██████████| 4500/4500 [00:51<00:00, 86.55it/s]\n"
     ]
    },
    {
     "name": "stdout",
     "output_type": "stream",
     "text": [
      "Processing aspect 1/4 -> Atendimento da equipe\n",
      "Train samples: 226, Test samples: 97\n"
     ]
    },
    {
     "name": "stderr",
     "output_type": "stream",
     "text": [
      "Running APP: 100%|██████████| 4500/4500 [00:53<00:00, 84.37it/s]\n"
     ]
    },
    {
     "name": "stdout",
     "output_type": "stream",
     "text": [
      "Processing aspect 2/4 -> Quarto\n",
      "Train samples: 293, Test samples: 126\n"
     ]
    },
    {
     "name": "stderr",
     "output_type": "stream",
     "text": [
      "Running APP: 100%|██████████| 4500/4500 [00:54<00:00, 82.72it/s]\n"
     ]
    },
    {
     "name": "stdout",
     "output_type": "stream",
     "text": [
      "Processing aspect 3/4 -> Áreas comuns\n",
      "Train samples: 182, Test samples: 79\n"
     ]
    },
    {
     "name": "stderr",
     "output_type": "stream",
     "text": [
      "Running APP: 100%|██████████| 4500/4500 [00:52<00:00, 85.87it/s]\n"
     ]
    },
    {
     "name": "stdout",
     "output_type": "stream",
     "text": [
      "Processing aspect 4/4 -> Café da manhã\n",
      "Train samples: 147, Test samples: 64\n"
     ]
    },
    {
     "name": "stderr",
     "output_type": "stream",
     "text": [
      "Running APP: 100%|██████████| 4500/4500 [00:51<00:00, 86.56it/s]\n"
     ]
    },
    {
     "name": "stdout",
     "output_type": "stream",
     "text": [
      "Processing aspect 1/8 -> Restaurante/Bar\n",
      "Train samples: 340, Test samples: 146\n"
     ]
    },
    {
     "name": "stderr",
     "output_type": "stream",
     "text": [
      "Running APP: 100%|██████████| 4500/4500 [00:55<00:00, 81.66it/s]\n"
     ]
    },
    {
     "name": "stdout",
     "output_type": "stream",
     "text": [
      "Processing aspect 2/8 -> Atendimento da equipe\n",
      "Train samples: 1388, Test samples: 596\n"
     ]
    },
    {
     "name": "stderr",
     "output_type": "stream",
     "text": [
      "Running APP: 100%|██████████| 4500/4500 [01:12<00:00, 62.21it/s]\n"
     ]
    },
    {
     "name": "stdout",
     "output_type": "stream",
     "text": [
      "Processing aspect 3/8 -> Experiência\n",
      "Train samples: 307, Test samples: 132\n"
     ]
    },
    {
     "name": "stderr",
     "output_type": "stream",
     "text": [
      "Running APP: 100%|██████████| 4500/4500 [00:54<00:00, 82.63it/s]\n"
     ]
    },
    {
     "name": "stdout",
     "output_type": "stream",
     "text": [
      "Processing aspect 4/8 -> Café da manhã\n",
      "Train samples: 553, Test samples: 238\n"
     ]
    },
    {
     "name": "stderr",
     "output_type": "stream",
     "text": [
      "Running APP: 100%|██████████| 4500/4500 [00:58<00:00, 76.47it/s]\n"
     ]
    },
    {
     "name": "stdout",
     "output_type": "stream",
     "text": [
      "Processing aspect 5/8 -> Quarto\n",
      "Train samples: 1109, Test samples: 476\n"
     ]
    },
    {
     "name": "stderr",
     "output_type": "stream",
     "text": [
      "Running APP: 100%|██████████| 4500/4500 [01:08<00:00, 65.71it/s]\n"
     ]
    },
    {
     "name": "stdout",
     "output_type": "stream",
     "text": [
      "Processing aspect 6/8 -> Banheiro\n",
      "Train samples: 284, Test samples: 123\n"
     ]
    },
    {
     "name": "stderr",
     "output_type": "stream",
     "text": [
      "Running APP: 100%|██████████| 4500/4500 [00:53<00:00, 83.63it/s]\n"
     ]
    },
    {
     "name": "stdout",
     "output_type": "stream",
     "text": [
      "Processing aspect 7/8 -> Áreas comuns\n",
      "Train samples: 737, Test samples: 316\n"
     ]
    },
    {
     "name": "stderr",
     "output_type": "stream",
     "text": [
      "Running APP: 100%|██████████| 4500/4500 [01:01<00:00, 72.86it/s]\n"
     ]
    },
    {
     "name": "stdout",
     "output_type": "stream",
     "text": [
      "Processing aspect 8/8 -> Localização\n",
      "Train samples: 209, Test samples: 90\n"
     ]
    },
    {
     "name": "stderr",
     "output_type": "stream",
     "text": [
      "Running APP: 100%|██████████| 4500/4500 [00:52<00:00, 85.30it/s]\n"
     ]
    },
    {
     "name": "stdout",
     "output_type": "stream",
     "text": [
      "Processing aspect 1/6 -> Café da manhã\n",
      "Train samples: 122, Test samples: 53\n"
     ]
    },
    {
     "name": "stderr",
     "output_type": "stream",
     "text": [
      "Running APP: 100%|██████████| 4500/4500 [00:51<00:00, 87.87it/s]\n"
     ]
    },
    {
     "name": "stdout",
     "output_type": "stream",
     "text": [
      "Processing aspect 2/6 -> Experiência\n",
      "Train samples: 104, Test samples: 45\n"
     ]
    },
    {
     "name": "stderr",
     "output_type": "stream",
     "text": [
      "Running APP: 100%|██████████| 4500/4500 [00:50<00:00, 88.32it/s]\n"
     ]
    },
    {
     "name": "stdout",
     "output_type": "stream",
     "text": [
      "Processing aspect 3/6 -> Atendimento da equipe\n",
      "Train samples: 155, Test samples: 67\n"
     ]
    },
    {
     "name": "stderr",
     "output_type": "stream",
     "text": [
      "Running APP: 100%|██████████| 4500/4500 [00:51<00:00, 86.72it/s]\n"
     ]
    },
    {
     "name": "stdout",
     "output_type": "stream",
     "text": [
      "Processing aspect 4/6 -> Quarto\n",
      "Train samples: 303, Test samples: 130\n"
     ]
    },
    {
     "name": "stderr",
     "output_type": "stream",
     "text": [
      "Running APP: 100%|██████████| 4500/4500 [00:54<00:00, 83.10it/s]\n"
     ]
    },
    {
     "name": "stdout",
     "output_type": "stream",
     "text": [
      "Processing aspect 5/6 -> Restaurante/Bar\n",
      "Train samples: 103, Test samples: 45\n"
     ]
    },
    {
     "name": "stderr",
     "output_type": "stream",
     "text": [
      "Running APP: 100%|██████████| 4500/4500 [00:51<00:00, 88.18it/s]\n"
     ]
    },
    {
     "name": "stdout",
     "output_type": "stream",
     "text": [
      "Processing aspect 6/6 -> Áreas comuns\n",
      "Train samples: 129, Test samples: 56\n"
     ]
    },
    {
     "name": "stderr",
     "output_type": "stream",
     "text": [
      "Running APP: 100%|██████████| 4500/4500 [00:51<00:00, 87.58it/s]\n"
     ]
    },
    {
     "name": "stdout",
     "output_type": "stream",
     "text": [
      "Processing aspect 1/6 -> Experiência\n",
      "Train samples: 113, Test samples: 49\n"
     ]
    },
    {
     "name": "stderr",
     "output_type": "stream",
     "text": [
      "Running APP: 100%|██████████| 4500/4500 [00:51<00:00, 88.04it/s]\n"
     ]
    },
    {
     "name": "stdout",
     "output_type": "stream",
     "text": [
      "Processing aspect 2/6 -> Atendimento da equipe\n",
      "Train samples: 280, Test samples: 120\n"
     ]
    },
    {
     "name": "stderr",
     "output_type": "stream",
     "text": [
      "Running APP: 100%|██████████| 4500/4500 [00:53<00:00, 83.73it/s]\n"
     ]
    },
    {
     "name": "stdout",
     "output_type": "stream",
     "text": [
      "Processing aspect 3/6 -> Áreas comuns\n",
      "Train samples: 327, Test samples: 141\n"
     ]
    },
    {
     "name": "stderr",
     "output_type": "stream",
     "text": [
      "Running APP: 100%|██████████| 4500/4500 [00:54<00:00, 82.52it/s]\n"
     ]
    },
    {
     "name": "stdout",
     "output_type": "stream",
     "text": [
      "Processing aspect 4/6 -> Quarto\n",
      "Train samples: 398, Test samples: 171\n"
     ]
    },
    {
     "name": "stderr",
     "output_type": "stream",
     "text": [
      "Running APP: 100%|██████████| 4500/4500 [00:55<00:00, 80.66it/s]\n"
     ]
    },
    {
     "name": "stdout",
     "output_type": "stream",
     "text": [
      "Processing aspect 5/6 -> Café da manhã\n",
      "Train samples: 144, Test samples: 63\n"
     ]
    },
    {
     "name": "stderr",
     "output_type": "stream",
     "text": [
      "Running APP: 100%|██████████| 4500/4500 [00:51<00:00, 87.35it/s]\n"
     ]
    },
    {
     "name": "stdout",
     "output_type": "stream",
     "text": [
      "Processing aspect 6/6 -> Localização\n",
      "Train samples: 131, Test samples: 57\n"
     ]
    },
    {
     "name": "stderr",
     "output_type": "stream",
     "text": [
      "Running APP: 100%|██████████| 4500/4500 [00:51<00:00, 87.57it/s]\n"
     ]
    },
    {
     "data": {
      "text/html": [
       "<div>\n",
       "<style scoped>\n",
       "    .dataframe tbody tr th:only-of-type {\n",
       "        vertical-align: middle;\n",
       "    }\n",
       "\n",
       "    .dataframe tbody tr th {\n",
       "        vertical-align: top;\n",
       "    }\n",
       "\n",
       "    .dataframe thead th {\n",
       "        text-align: right;\n",
       "    }\n",
       "</style>\n",
       "<table border=\"1\" class=\"dataframe\">\n",
       "  <thead>\n",
       "    <tr style=\"text-align: right;\">\n",
       "      <th></th>\n",
       "      <th>ITERATION</th>\n",
       "      <th>QUANTIFIER</th>\n",
       "      <th>REAL_PREVS</th>\n",
       "      <th>PRED_PREVS</th>\n",
       "      <th>BATCH_SIZE</th>\n",
       "      <th>mae</th>\n",
       "      <th>rae</th>\n",
       "      <th>hotel</th>\n",
       "      <th>aspect</th>\n",
       "    </tr>\n",
       "  </thead>\n",
       "  <tbody>\n",
       "    <tr>\n",
       "      <th>0</th>\n",
       "      <td>1</td>\n",
       "      <td>CC</td>\n",
       "      <td>[0.0, 1.0]</td>\n",
       "      <td>[0.0, 1.0]</td>\n",
       "      <td>25</td>\n",
       "      <td>0.000000e+00</td>\n",
       "      <td>0.000000e+00</td>\n",
       "      <td>bourbon</td>\n",
       "      <td>Atendimento da equipe</td>\n",
       "    </tr>\n",
       "    <tr>\n",
       "      <th>1</th>\n",
       "      <td>1</td>\n",
       "      <td>PCC</td>\n",
       "      <td>[0.0, 1.0]</td>\n",
       "      <td>[0.10520459559999999, 0.8947954044]</td>\n",
       "      <td>25</td>\n",
       "      <td>1.045429e-01</td>\n",
       "      <td>1.667476e+01</td>\n",
       "      <td>bourbon</td>\n",
       "      <td>Atendimento da equipe</td>\n",
       "    </tr>\n",
       "    <tr>\n",
       "      <th>2</th>\n",
       "      <td>1</td>\n",
       "      <td>EMQ</td>\n",
       "      <td>[0.0, 1.0]</td>\n",
       "      <td>[1.6213530263944888e-14, 0.9999999999999838]</td>\n",
       "      <td>25</td>\n",
       "      <td>1.610496e-14</td>\n",
       "      <td>2.568766e-12</td>\n",
       "      <td>bourbon</td>\n",
       "      <td>Atendimento da equipe</td>\n",
       "    </tr>\n",
       "    <tr>\n",
       "      <th>3</th>\n",
       "      <td>1</td>\n",
       "      <td>FM</td>\n",
       "      <td>[0.0, 1.0]</td>\n",
       "      <td>[0.0, 1.0]</td>\n",
       "      <td>25</td>\n",
       "      <td>0.000000e+00</td>\n",
       "      <td>0.000000e+00</td>\n",
       "      <td>bourbon</td>\n",
       "      <td>Atendimento da equipe</td>\n",
       "    </tr>\n",
       "    <tr>\n",
       "      <th>4</th>\n",
       "      <td>1</td>\n",
       "      <td>GPAC</td>\n",
       "      <td>[0.0, 1.0]</td>\n",
       "      <td>[0.0, 1.0]</td>\n",
       "      <td>25</td>\n",
       "      <td>0.000000e+00</td>\n",
       "      <td>0.000000e+00</td>\n",
       "      <td>bourbon</td>\n",
       "      <td>Atendimento da equipe</td>\n",
       "    </tr>\n",
       "  </tbody>\n",
       "</table>\n",
       "</div>"
      ],
      "text/plain": [
       "   ITERATION QUANTIFIER  REAL_PREVS  \\\n",
       "0          1         CC  [0.0, 1.0]   \n",
       "1          1        PCC  [0.0, 1.0]   \n",
       "2          1        EMQ  [0.0, 1.0]   \n",
       "3          1         FM  [0.0, 1.0]   \n",
       "4          1       GPAC  [0.0, 1.0]   \n",
       "\n",
       "                                     PRED_PREVS  BATCH_SIZE           mae  \\\n",
       "0                                    [0.0, 1.0]          25  0.000000e+00   \n",
       "1           [0.10520459559999999, 0.8947954044]          25  1.045429e-01   \n",
       "2  [1.6213530263944888e-14, 0.9999999999999838]          25  1.610496e-14   \n",
       "3                                    [0.0, 1.0]          25  0.000000e+00   \n",
       "4                                    [0.0, 1.0]          25  0.000000e+00   \n",
       "\n",
       "            rae    hotel                 aspect  \n",
       "0  0.000000e+00  bourbon  Atendimento da equipe  \n",
       "1  1.667476e+01  bourbon  Atendimento da equipe  \n",
       "2  2.568766e-12  bourbon  Atendimento da equipe  \n",
       "3  0.000000e+00  bourbon  Atendimento da equipe  \n",
       "4  0.000000e+00  bourbon  Atendimento da equipe  "
      ]
     },
     "execution_count": 101,
     "metadata": {},
     "output_type": "execute_result"
    }
   ],
   "source": [
    "final_table = pd.DataFrame()\n",
    "\n",
    "mq.methods.METHODS.pop(\"ENSEMBLE\", None)\n",
    "# mq.methods.METHODS.pop(\"HDx\", None)\n",
    "# mq.methods.METHODS.pop(\"GAC\", None)\n",
    "\n",
    "for file in FILES:\n",
    "    name = file.split('.')[0]\n",
    "    dataset = pd.read_csv(f\"datasets com score/{file}\")\n",
    "    dataset['date'] = pd.to_datetime(dataset['date'])\n",
    "    dataset.sort_values('date', inplace=True)\n",
    "    i = 0\n",
    "    aspects = dataset[\"aspect\"].unique()\n",
    "    for aspect in aspects:\n",
    "        print(f\"Processing aspect {i+1}/{len(aspects)} -> {aspect}\")\n",
    "        i = i + 1\n",
    "        df = dataset[dataset[\"aspect\"] == aspect]\n",
    "        \n",
    "        if df['class'].value_counts().min() < 2:\n",
    "            train_df, test_df = train_test_split(df, test_size=0.3, random_state=32)\n",
    "        else:\n",
    "            train_df, test_df = train_test_split(df, test_size=0.3, stratify=df['class'], random_state=32)\n",
    "\n",
    "        X_train = train_df.drop(['class', 'score', 'date'], axis=1)\n",
    "        y_train = train_df['class']\n",
    "        X_test = test_df.drop(['class', 'date'], axis=1)\n",
    "        y_test = test_df['class']\n",
    "\n",
    "        print(f\"Train samples: {len(y_train)}, Test samples: {len(y_test)}\")\n",
    "\n",
    "        train_scores = pd.DataFrame({\n",
    "            '0': abs(1 - train_df[\"score\"]),\n",
    "            '1': train_df[\"score\"]\n",
    "        })\n",
    "\n",
    "        batch_sizes = list(np.linspace(25, len(y_test), 5).astype(int))\n",
    "\n",
    "        mq.ARGUMENTS_SETTED = True\n",
    "        hotel_protocol = HotelProtocol(models=\"all\",\n",
    "                                    n_prevs=50,\n",
    "                                    batch_size=batch_sizes,\n",
    "                                    return_type=\"table\",\n",
    "                                    measures=[\"mae\", \"rae\"])\n",
    "        \n",
    "        hotel_protocol.fit(X_train, y_train, train_scores=train_scores)\n",
    "\n",
    "        table = hotel_protocol.predict(X_test, y_test)\n",
    "        \n",
    "        table[\"hotel\"] = name\n",
    "        table[\"aspect\"] = aspect\n",
    "\n",
    "        final_table = pd.concat([final_table, table], ignore_index=True)\n",
    "\n",
    "final_table.to_csv(\"quantification_results.csv\", index=False)\n",
    "final_table.head()\n"
   ]
  },
  {
   "cell_type": "code",
   "execution_count": null,
   "id": "a5f005c1",
   "metadata": {},
   "outputs": [],
   "source": [
    "\n",
    "    "
   ]
  }
 ],
 "metadata": {
  "kernelspec": {
   "display_name": ".venv",
   "language": "python",
   "name": "python3"
  },
  "language_info": {
   "codemirror_mode": {
    "name": "ipython",
    "version": 3
   },
   "file_extension": ".py",
   "mimetype": "text/x-python",
   "name": "python",
   "nbconvert_exporter": "python",
   "pygments_lexer": "ipython3",
   "version": "3.13.2"
  }
 },
 "nbformat": 4,
 "nbformat_minor": 5
}
