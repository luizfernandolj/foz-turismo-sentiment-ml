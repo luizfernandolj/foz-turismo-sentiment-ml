{
 "cells": [
  {
   "cell_type": "code",
   "execution_count": 19,
   "id": "initial_id",
   "metadata": {
    "ExecuteTime": {
     "end_time": "2025-03-21T11:56:46.637169Z",
     "start_time": "2025-03-21T11:56:46.115994Z"
    },
    "collapsed": true
   },
   "outputs": [],
   "source": [
    "import pandas as pd"
   ]
  },
  {
   "cell_type": "code",
   "execution_count": 20,
   "id": "3fba9c7db8e06db",
   "metadata": {
    "ExecuteTime": {
     "end_time": "2025-03-21T11:56:46.905243Z",
     "start_time": "2025-03-21T11:56:46.649940Z"
    }
   },
   "outputs": [],
   "source": [
    "bourbon = pd.read_csv(\"datasets/bourbon.csv\")\n",
    "continental = pd.read_csv(\"datasets/continental.csv\")\n",
    "foz_plaza = pd.read_csv(\"datasets/foz_plaza.csv\")\n",
    "nadai = pd.read_csv(\"datasets/nadai.csv\")\n",
    "taroba = pd.read_csv(\"datasets/taroba.csv\")\n",
    "viale_cataratas = pd.read_csv(\"datasets/viale_cataratas.csv\")\n",
    "viale_tower = pd.read_csv(\"datasets/viale_tower.csv\")"
   ]
  },
  {
   "cell_type": "code",
   "execution_count": 21,
   "id": "1c7ee187",
   "metadata": {},
   "outputs": [],
   "source": [
    "def show_info(df_hotel):\n",
    "    hotel = df_hotel['hotel_id'].iloc[0]\n",
    "    num_reviews = df_hotel.shape[0]\n",
    "    \n",
    "    print(\"=\" * 40)\n",
    "    print(f\"Hotel: {hotel}\")\n",
    "    print(f\"Total Reviews: {num_reviews}\")\n",
    "    print(\"=\" * 40)\n",
    "    print(\"Category Summary:\")\n",
    "    for category in df_hotel['category'].unique():\n",
    "        df_cat = df_hotel[df_hotel['category'] == category]\n",
    "        total = df_cat.shape[0]\n",
    "        positive = df_cat[df_cat['sentiment'] == 1].shape[0]\n",
    "        negative = df_cat[df_cat['sentiment'] == 0].shape[0]\n",
    "        print(f\"\\n -> {category}\")\n",
    "        print(f\"    Total   : {total}\")\n",
    "        print(f\"    Positive: {positive}\")\n",
    "        print(f\"    Negative: {negative}\")\n",
    "    print(\"\\n\" + \"-\" * 40)"
   ]
  },
  {
   "cell_type": "markdown",
   "id": "9e096ed0a64fd72",
   "metadata": {},
   "source": [
    "## Bourbon"
   ]
  },
  {
   "cell_type": "code",
   "execution_count": 22,
   "id": "9d8e9485",
   "metadata": {},
   "outputs": [
    {
     "name": "stdout",
     "output_type": "stream",
     "text": [
      "========================================\n",
      "Hotel: bourbon\n",
      "Total Reviews: 1254\n",
      "========================================\n",
      "Category Summary:\n",
      "\n",
      " -> Quarto\n",
      "    Total   : 468\n",
      "    Positive: 392\n",
      "    Negative: 76\n",
      "\n",
      " -> Localização\n",
      "    Total   : 171\n",
      "    Positive: 167\n",
      "    Negative: 4\n",
      "\n",
      " -> Áreas comuns\n",
      "    Total   : 109\n",
      "    Positive: 73\n",
      "    Negative: 36\n",
      "\n",
      " -> Atendimento da equipe\n",
      "    Total   : 290\n",
      "    Positive: 229\n",
      "    Negative: 61\n",
      "\n",
      " -> Café da manhã\n",
      "    Total   : 216\n",
      "    Positive: 171\n",
      "    Negative: 45\n",
      "\n",
      "----------------------------------------\n"
     ]
    }
   ],
   "source": [
    "show_info(bourbon)"
   ]
  },
  {
   "cell_type": "markdown",
   "id": "f781098bb4de875a",
   "metadata": {},
   "source": [
    "## Continental"
   ]
  },
  {
   "cell_type": "code",
   "execution_count": 23,
   "id": "f344c9352ea7317b",
   "metadata": {
    "ExecuteTime": {
     "end_time": "2025-02-19T19:00:28.873259Z",
     "start_time": "2025-02-19T19:00:28.866492Z"
    }
   },
   "outputs": [
    {
     "name": "stdout",
     "output_type": "stream",
     "text": [
      "========================================\n",
      "Hotel: continental\n",
      "Total Reviews: 310\n",
      "========================================\n",
      "Category Summary:\n",
      "\n",
      " -> Atendimento da equipe\n",
      "    Total   : 153\n",
      "    Positive: 136\n",
      "    Negative: 17\n",
      "\n",
      " -> Quarto\n",
      "    Total   : 157\n",
      "    Positive: 119\n",
      "    Negative: 38\n",
      "\n",
      "----------------------------------------\n"
     ]
    }
   ],
   "source": [
    "show_info(continental)"
   ]
  },
  {
   "cell_type": "markdown",
   "id": "185c7cde231b9aa0",
   "metadata": {},
   "source": [
    "## Foz Plaza"
   ]
  },
  {
   "cell_type": "code",
   "execution_count": 24,
   "id": "47d93f09fe70e0d6",
   "metadata": {
    "ExecuteTime": {
     "end_time": "2025-02-19T19:01:29.188964Z",
     "start_time": "2025-02-19T19:01:29.182078Z"
    }
   },
   "outputs": [
    {
     "name": "stdout",
     "output_type": "stream",
     "text": [
      "========================================\n",
      "Hotel: foz_plaza\n",
      "Total Reviews: 468\n",
      "========================================\n",
      "Category Summary:\n",
      "\n",
      " -> Atendimento da equipe\n",
      "    Total   : 162\n",
      "    Positive: 142\n",
      "    Negative: 20\n",
      "\n",
      " -> Quarto\n",
      "    Total   : 182\n",
      "    Positive: 133\n",
      "    Negative: 49\n",
      "\n",
      " -> Áreas comuns\n",
      "    Total   : 124\n",
      "    Positive: 96\n",
      "    Negative: 28\n",
      "\n",
      "----------------------------------------\n"
     ]
    }
   ],
   "source": [
    "show_info(foz_plaza)"
   ]
  },
  {
   "cell_type": "markdown",
   "id": "d01970c7c2456b59",
   "metadata": {},
   "source": [
    "## Nadai"
   ]
  },
  {
   "cell_type": "code",
   "execution_count": 25,
   "id": "84e413d5e4e2e7d0",
   "metadata": {
    "ExecuteTime": {
     "end_time": "2025-02-19T19:02:32.852587Z",
     "start_time": "2025-02-19T19:02:32.846272Z"
    }
   },
   "outputs": [
    {
     "name": "stdout",
     "output_type": "stream",
     "text": [
      "========================================\n",
      "Hotel: nadai\n",
      "Total Reviews: 812\n",
      "========================================\n",
      "Category Summary:\n",
      "\n",
      " -> Atendimento da equipe\n",
      "    Total   : 253\n",
      "    Positive: 209\n",
      "    Negative: 44\n",
      "\n",
      " -> Quarto\n",
      "    Total   : 239\n",
      "    Positive: 152\n",
      "    Negative: 87\n",
      "\n",
      " -> Áreas comuns\n",
      "    Total   : 167\n",
      "    Positive: 121\n",
      "    Negative: 46\n",
      "\n",
      " -> Café da manhã\n",
      "    Total   : 153\n",
      "    Positive: 125\n",
      "    Negative: 28\n",
      "\n",
      "----------------------------------------\n"
     ]
    }
   ],
   "source": [
    "show_info(nadai)"
   ]
  },
  {
   "cell_type": "markdown",
   "id": "13f99294b1b74e05",
   "metadata": {},
   "source": [
    "## Taroba"
   ]
  },
  {
   "cell_type": "code",
   "execution_count": 26,
   "id": "124d54862556924b",
   "metadata": {
    "ExecuteTime": {
     "end_time": "2025-02-19T19:03:36.657032Z",
     "start_time": "2025-02-19T19:03:36.647320Z"
    }
   },
   "outputs": [
    {
     "name": "stdout",
     "output_type": "stream",
     "text": [
      "========================================\n",
      "Hotel: taroba\n",
      "Total Reviews: 4316\n",
      "========================================\n",
      "Category Summary:\n",
      "\n",
      " -> Atendimento da equipe\n",
      "    Total   : 1421\n",
      "    Positive: 1254\n",
      "    Negative: 167\n",
      "\n",
      " -> Experiência\n",
      "    Total   : 335\n",
      "    Positive: 305\n",
      "    Negative: 30\n",
      "\n",
      " -> Café da manhã\n",
      "    Total   : 518\n",
      "    Positive: 426\n",
      "    Negative: 92\n",
      "\n",
      " -> Restaurante/Bar\n",
      "    Total   : 251\n",
      "    Positive: 175\n",
      "    Negative: 76\n",
      "\n",
      " -> Banheiro\n",
      "    Total   : 150\n",
      "    Positive: 79\n",
      "    Negative: 71\n",
      "\n",
      " -> Quarto\n",
      "    Total   : 889\n",
      "    Positive: 697\n",
      "    Negative: 192\n",
      "\n",
      " -> Localização\n",
      "    Total   : 262\n",
      "    Positive: 255\n",
      "    Negative: 7\n",
      "\n",
      " -> Áreas comuns\n",
      "    Total   : 490\n",
      "    Positive: 331\n",
      "    Negative: 159\n",
      "\n",
      "----------------------------------------\n"
     ]
    }
   ],
   "source": [
    "show_info(taroba)"
   ]
  },
  {
   "cell_type": "markdown",
   "id": "ca8c383b",
   "metadata": {},
   "source": [
    "## Viale Cataratas"
   ]
  },
  {
   "cell_type": "code",
   "execution_count": 27,
   "id": "d3c4fbe8",
   "metadata": {},
   "outputs": [
    {
     "name": "stdout",
     "output_type": "stream",
     "text": [
      "========================================\n",
      "Hotel: viale_cataratas\n",
      "Total Reviews: 930\n",
      "========================================\n",
      "Category Summary:\n",
      "\n",
      " -> Quarto\n",
      "    Total   : 274\n",
      "    Positive: 173\n",
      "    Negative: 101\n",
      "\n",
      " -> Áreas comuns\n",
      "    Total   : 128\n",
      "    Positive: 78\n",
      "    Negative: 50\n",
      "\n",
      " -> Experiência\n",
      "    Total   : 110\n",
      "    Positive: 91\n",
      "    Negative: 19\n",
      "\n",
      " -> Café da manhã\n",
      "    Total   : 137\n",
      "    Positive: 111\n",
      "    Negative: 26\n",
      "\n",
      " -> Atendimento da equipe\n",
      "    Total   : 180\n",
      "    Positive: 147\n",
      "    Negative: 33\n",
      "\n",
      " -> Restaurante/Bar\n",
      "    Total   : 101\n",
      "    Positive: 56\n",
      "    Negative: 45\n",
      "\n",
      "----------------------------------------\n"
     ]
    }
   ],
   "source": [
    "show_info(viale_cataratas)"
   ]
  },
  {
   "cell_type": "markdown",
   "id": "de40ba93",
   "metadata": {},
   "source": [
    "## Viale Tower"
   ]
  },
  {
   "cell_type": "code",
   "execution_count": 28,
   "id": "ad7cdc08",
   "metadata": {},
   "outputs": [
    {
     "name": "stdout",
     "output_type": "stream",
     "text": [
      "========================================\n",
      "Hotel: viale_tower\n",
      "Total Reviews: 1324\n",
      "========================================\n",
      "Category Summary:\n",
      "\n",
      " -> Localização\n",
      "    Total   : 176\n",
      "    Positive: 166\n",
      "    Negative: 10\n",
      "\n",
      " -> Quarto\n",
      "    Total   : 367\n",
      "    Positive: 278\n",
      "    Negative: 89\n",
      "\n",
      " -> Café da manhã\n",
      "    Total   : 144\n",
      "    Positive: 106\n",
      "    Negative: 38\n",
      "\n",
      " -> Atendimento da equipe\n",
      "    Total   : 298\n",
      "    Positive: 250\n",
      "    Negative: 48\n",
      "\n",
      " -> Áreas comuns\n",
      "    Total   : 225\n",
      "    Positive: 97\n",
      "    Negative: 128\n",
      "\n",
      " -> Experiência\n",
      "    Total   : 114\n",
      "    Positive: 100\n",
      "    Negative: 14\n",
      "\n",
      "----------------------------------------\n"
     ]
    }
   ],
   "source": [
    "show_info(viale_tower)"
   ]
  },
  {
   "cell_type": "code",
   "execution_count": 30,
   "id": "0116e629",
   "metadata": {},
   "outputs": [],
   "source": [
    "summary_list = []\n",
    "hotels = [bourbon, continental, foz_plaza, nadai, taroba, viale_cataratas, viale_tower]\n",
    "\n",
    "for hut in hotels:\n",
    "    hotel_name = hut['hotel_id'].iloc[0]\n",
    "    total_reviews = hut.shape[0]\n",
    "    positive_reviews = hut[hut['sentiment'] == 1].shape[0]\n",
    "    negative_reviews = hut[hut['sentiment'] == 0].shape[0]\n",
    "    categorias = \", \".join(hut['category'].unique())\n",
    "    \n",
    "    summary_list.append({\n",
    "        \"Hotel\": hotel_name,\n",
    "        \"Total Reviews\": total_reviews,\n",
    "        \"Positive Reviews\": positive_reviews,\n",
    "        \"Negative Reviews\": negative_reviews,\n",
    "        \"Categorias\": categorias\n",
    "    })\n",
    "\n",
    "summary_df = pd.DataFrame(summary_list)\n",
    "summary_df.to_csv(\"summary.csv\", index=False)"
   ]
  }
 ],
 "metadata": {
  "kernelspec": {
   "display_name": ".venv",
   "language": "python",
   "name": "python3"
  },
  "language_info": {
   "codemirror_mode": {
    "name": "ipython",
    "version": 3
   },
   "file_extension": ".py",
   "mimetype": "text/x-python",
   "name": "python",
   "nbconvert_exporter": "python",
   "pygments_lexer": "ipython3",
   "version": "3.13.2"
  }
 },
 "nbformat": 4,
 "nbformat_minor": 5
}
