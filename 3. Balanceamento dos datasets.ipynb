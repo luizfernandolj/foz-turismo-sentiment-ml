{
 "cells": [
  {
   "cell_type": "code",
   "execution_count": 1,
   "id": "initial_id",
   "metadata": {
    "ExecuteTime": {
     "end_time": "2025-02-19T20:10:55.764855Z",
     "start_time": "2025-02-19T20:10:55.437308Z"
    },
    "collapsed": true
   },
   "outputs": [],
   "source": [
    "import pandas as pd"
   ]
  },
  {
   "cell_type": "code",
   "execution_count": 2,
   "id": "f83ee67afb2a4ff9",
   "metadata": {
    "ExecuteTime": {
     "end_time": "2025-02-19T20:15:49.695044Z",
     "start_time": "2025-02-19T20:15:49.691335Z"
    }
   },
   "outputs": [],
   "source": [
    "def balance_dataset(df):\n",
    "    class_0_df = df[df['class'] == 0]\n",
    "    class_1_df = df[df['class'] == 1]\n",
    "    max_samples = max(len(class_0_df), len(class_1_df))\n",
    "    balanced_df = pd.concat([\n",
    "        class_0_df.sample(n=max_samples, replace=True, random_state=42),\n",
    "        class_1_df.sample(n=max_samples, replace=True, random_state=42)\n",
    "    ])\n",
    "    return balanced_df\n"
   ]
  },
  {
   "cell_type": "code",
   "execution_count": 3,
   "id": "268fdfc9a5706de4",
   "metadata": {
    "ExecuteTime": {
     "end_time": "2025-02-19T20:15:51.949811Z",
     "start_time": "2025-02-19T20:15:51.294907Z"
    }
   },
   "outputs": [],
   "source": [
    "bourbon = pd.read_csv(\"datasets padronizados/bourbon.csv\")\n",
    "continental = pd.read_csv(\"datasets padronizados/continental.csv\")\n",
    "foz_plaza = pd.read_csv(\"datasets padronizados/foz_plaza.csv\")\n",
    "nadai = pd.read_csv(\"datasets padronizados/nadai.csv\")\n",
    "taroba = pd.read_csv(\"datasets padronizados/taroba.csv\")\n",
    "viale_cataratas = pd.read_csv(\"datasets padronizados/viale_cataratas.csv\")\n",
    "viale_tower = pd.read_csv(\"datasets padronizados/viale_tower.csv\")"
   ]
  },
  {
   "cell_type": "code",
   "execution_count": 4,
   "id": "50cb9ab2",
   "metadata": {},
   "outputs": [
    {
     "name": "stdout",
     "output_type": "stream",
     "text": [
      "class\n",
      "1    1032\n",
      "0     222\n",
      "Name: count, dtype: int64\n",
      "class\n",
      "1    255\n",
      "0     55\n",
      "Name: count, dtype: int64\n",
      "class\n",
      "1    371\n",
      "0     97\n",
      "Name: count, dtype: int64\n",
      "class\n",
      "1    607\n",
      "0    205\n",
      "Name: count, dtype: int64\n",
      "class\n",
      "1    3522\n",
      "0     794\n",
      "Name: count, dtype: int64\n",
      "class\n",
      "1    656\n",
      "0    274\n",
      "Name: count, dtype: int64\n",
      "class\n",
      "1    997\n",
      "0    327\n",
      "Name: count, dtype: int64\n"
     ]
    }
   ],
   "source": [
    "dataset_list = [bourbon, continental, foz_plaza, nadai, taroba, viale_cataratas, viale_tower]\n",
    "for dataset in dataset_list:\n",
    "    print(dataset['class'].value_counts())"
   ]
  },
  {
   "cell_type": "code",
   "execution_count": 5,
   "id": "a3d470ee62978032",
   "metadata": {
    "ExecuteTime": {
     "end_time": "2025-02-19T20:16:04.865460Z",
     "start_time": "2025-02-19T20:16:04.835247Z"
    }
   },
   "outputs": [],
   "source": [
    "bourbon = balance_dataset(bourbon)\n",
    "continental = balance_dataset(continental)\n",
    "foz_plaza = balance_dataset(foz_plaza)\n",
    "nadai = balance_dataset(nadai)\n",
    "taroba = balance_dataset(taroba)\n",
    "viale_cataratas = balance_dataset(viale_cataratas)\n",
    "viale_tower = balance_dataset(viale_tower)"
   ]
  },
  {
   "cell_type": "code",
   "execution_count": 6,
   "id": "4cfd3fa762dd4cc0",
   "metadata": {
    "ExecuteTime": {
     "end_time": "2025-02-19T20:16:06.792730Z",
     "start_time": "2025-02-19T20:16:06.771091Z"
    }
   },
   "outputs": [
    {
     "name": "stdout",
     "output_type": "stream",
     "text": [
      "class\n",
      "0    1032\n",
      "1    1032\n",
      "Name: count, dtype: int64\n",
      "class\n",
      "0    255\n",
      "1    255\n",
      "Name: count, dtype: int64\n",
      "class\n",
      "0    371\n",
      "1    371\n",
      "Name: count, dtype: int64\n",
      "class\n",
      "0    607\n",
      "1    607\n",
      "Name: count, dtype: int64\n",
      "class\n",
      "0    3522\n",
      "1    3522\n",
      "Name: count, dtype: int64\n",
      "class\n",
      "0    656\n",
      "1    656\n",
      "Name: count, dtype: int64\n",
      "class\n",
      "0    997\n",
      "1    997\n",
      "Name: count, dtype: int64\n"
     ]
    }
   ],
   "source": [
    "dataset_list = [bourbon, continental, foz_plaza, nadai, taroba, viale_cataratas, viale_tower]\n",
    "for dataset in dataset_list:\n",
    "    print(dataset['class'].value_counts())"
   ]
  },
  {
   "cell_type": "code",
   "execution_count": 7,
   "id": "6496f23f",
   "metadata": {},
   "outputs": [
    {
     "data": {
      "text/html": [
       "<div>\n",
       "<style scoped>\n",
       "    .dataframe tbody tr th:only-of-type {\n",
       "        vertical-align: middle;\n",
       "    }\n",
       "\n",
       "    .dataframe tbody tr th {\n",
       "        vertical-align: top;\n",
       "    }\n",
       "\n",
       "    .dataframe thead th {\n",
       "        text-align: right;\n",
       "    }\n",
       "</style>\n",
       "<table border=\"1\" class=\"dataframe\">\n",
       "  <thead>\n",
       "    <tr style=\"text-align: right;\">\n",
       "      <th></th>\n",
       "      <th>text</th>\n",
       "      <th>class</th>\n",
       "      <th>date</th>\n",
       "      <th>aspect</th>\n",
       "    </tr>\n",
       "  </thead>\n",
       "  <tbody>\n",
       "    <tr>\n",
       "      <th>601</th>\n",
       "      <td>A ilha de tapioca é sempre aberta após às 8hor...</td>\n",
       "      <td>0</td>\n",
       "      <td>2024-05-09 00:00:00+00:00</td>\n",
       "      <td>Café da manhã</td>\n",
       "    </tr>\n",
       "    <tr>\n",
       "      <th>979</th>\n",
       "      <td>Faltou empatia/cortezia ao solicitar que gelas...</td>\n",
       "      <td>0</td>\n",
       "      <td>2024-11-05 00:00:00+00:00</td>\n",
       "      <td>Atendimento da equipe</td>\n",
       "    </tr>\n",
       "    <tr>\n",
       "      <th>496</th>\n",
       "      <td>Atendimento deixou muito a desejar.</td>\n",
       "      <td>0</td>\n",
       "      <td>2024-02-22 00:00:00+00:00</td>\n",
       "      <td>Atendimento da equipe</td>\n",
       "    </tr>\n",
       "    <tr>\n",
       "      <th>85</th>\n",
       "      <td>mesmo o hotel rapidamente nos atendendo com tr...</td>\n",
       "      <td>0</td>\n",
       "      <td>2025-03-25 00:00:00+00:00</td>\n",
       "      <td>Quarto</td>\n",
       "    </tr>\n",
       "    <tr>\n",
       "      <th>644</th>\n",
       "      <td>ap com cadeira quebrada</td>\n",
       "      <td>0</td>\n",
       "      <td>2025-06-06 00:00:00+00:00</td>\n",
       "      <td>Quarto</td>\n",
       "    </tr>\n",
       "    <tr>\n",
       "      <th>...</th>\n",
       "      <td>...</td>\n",
       "      <td>...</td>\n",
       "      <td>...</td>\n",
       "      <td>...</td>\n",
       "    </tr>\n",
       "    <tr>\n",
       "      <th>1204</th>\n",
       "      <td>Hotel lindo, limpo, tudo novo, decoração de mu...</td>\n",
       "      <td>1</td>\n",
       "      <td>2024-11-13 11:49:12+00:00</td>\n",
       "      <td>Áreas comuns</td>\n",
       "    </tr>\n",
       "    <tr>\n",
       "      <th>492</th>\n",
       "      <td>Quarto muito espaçoso e confortável</td>\n",
       "      <td>1</td>\n",
       "      <td>2024-02-25 00:00:00+00:00</td>\n",
       "      <td>Quarto</td>\n",
       "    </tr>\n",
       "    <tr>\n",
       "      <th>756</th>\n",
       "      <td>Fica no centro perto da ponte da amizade com p...</td>\n",
       "      <td>1</td>\n",
       "      <td>2025-07-18 19:33:35+00:00</td>\n",
       "      <td>Localização</td>\n",
       "    </tr>\n",
       "    <tr>\n",
       "      <th>1204</th>\n",
       "      <td>Hotel lindo, limpo, tudo novo, decoração de mu...</td>\n",
       "      <td>1</td>\n",
       "      <td>2024-11-13 11:49:12+00:00</td>\n",
       "      <td>Áreas comuns</td>\n",
       "    </tr>\n",
       "    <tr>\n",
       "      <th>761</th>\n",
       "      <td>Staff muito atencioso e simpático.</td>\n",
       "      <td>1</td>\n",
       "      <td>2025-07-18 19:33:35+00:00</td>\n",
       "      <td>Atendimento da equipe</td>\n",
       "    </tr>\n",
       "  </tbody>\n",
       "</table>\n",
       "<p>2064 rows × 4 columns</p>\n",
       "</div>"
      ],
      "text/plain": [
       "                                                   text  class  \\\n",
       "601   A ilha de tapioca é sempre aberta após às 8hor...      0   \n",
       "979   Faltou empatia/cortezia ao solicitar que gelas...      0   \n",
       "496                 Atendimento deixou muito a desejar.      0   \n",
       "85    mesmo o hotel rapidamente nos atendendo com tr...      0   \n",
       "644                             ap com cadeira quebrada      0   \n",
       "...                                                 ...    ...   \n",
       "1204  Hotel lindo, limpo, tudo novo, decoração de mu...      1   \n",
       "492                 Quarto muito espaçoso e confortável      1   \n",
       "756   Fica no centro perto da ponte da amizade com p...      1   \n",
       "1204  Hotel lindo, limpo, tudo novo, decoração de mu...      1   \n",
       "761                  Staff muito atencioso e simpático.      1   \n",
       "\n",
       "                           date                 aspect  \n",
       "601   2024-05-09 00:00:00+00:00          Café da manhã  \n",
       "979   2024-11-05 00:00:00+00:00  Atendimento da equipe  \n",
       "496   2024-02-22 00:00:00+00:00  Atendimento da equipe  \n",
       "85    2025-03-25 00:00:00+00:00                 Quarto  \n",
       "644   2025-06-06 00:00:00+00:00                 Quarto  \n",
       "...                         ...                    ...  \n",
       "1204  2024-11-13 11:49:12+00:00           Áreas comuns  \n",
       "492   2024-02-25 00:00:00+00:00                 Quarto  \n",
       "756   2025-07-18 19:33:35+00:00            Localização  \n",
       "1204  2024-11-13 11:49:12+00:00           Áreas comuns  \n",
       "761   2025-07-18 19:33:35+00:00  Atendimento da equipe  \n",
       "\n",
       "[2064 rows x 4 columns]"
      ]
     },
     "execution_count": 7,
     "metadata": {},
     "output_type": "execute_result"
    }
   ],
   "source": [
    "bourbon"
   ]
  },
  {
   "cell_type": "code",
   "execution_count": 8,
   "id": "fd9929eba1e83d86",
   "metadata": {
    "ExecuteTime": {
     "end_time": "2025-02-19T20:16:35.386874Z",
     "start_time": "2025-02-19T20:16:35.233070Z"
    }
   },
   "outputs": [],
   "source": [
    "bourbon.to_csv(\"datasets balanceados/bourbon.csv\", index=False)\n",
    "continental.to_csv(\"datasets balanceados/continental.csv\", index=False)\n",
    "foz_plaza.to_csv(\"datasets balanceados/foz_plaza.csv\", index=False)\n",
    "nadai.to_csv(\"datasets balanceados/nadai.csv\", index=False)\n",
    "taroba.to_csv(\"datasets balanceados/taroba.csv\", index=False)\n",
    "viale_cataratas.to_csv(\"datasets balanceados/viale_cataratas.csv\", index=False)\n",
    "viale_tower.to_csv(\"datasets balanceados/viale_tower.csv\", index=False)"
   ]
  }
 ],
 "metadata": {
  "kernelspec": {
   "display_name": ".venv",
   "language": "python",
   "name": "python3"
  },
  "language_info": {
   "codemirror_mode": {
    "name": "ipython",
    "version": 3
   },
   "file_extension": ".py",
   "mimetype": "text/x-python",
   "name": "python",
   "nbconvert_exporter": "python",
   "pygments_lexer": "ipython3",
   "version": "3.13.2"
  }
 },
 "nbformat": 4,
 "nbformat_minor": 5
}
