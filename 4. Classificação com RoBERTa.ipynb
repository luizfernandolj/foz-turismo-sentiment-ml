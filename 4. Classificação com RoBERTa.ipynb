{
 "cells": [
  {
   "cell_type": "code",
   "execution_count": 10,
   "id": "initial_id",
   "metadata": {
    "ExecuteTime": {
     "end_time": "2025-02-22T14:37:39.502394Z",
     "start_time": "2025-02-22T14:37:34.420496Z"
    },
    "collapsed": true
   },
   "outputs": [],
   "source": [
    "import pandas as pd\n",
    "\n",
    "from tqdm.notebook import tqdm\n",
    "import torch.nn.functional as F\n",
    "import torch\n",
    "from transformers import AutoTokenizer\n",
    "from transformers import AutoModelForSequenceClassification\n",
    "import os"
   ]
  },
  {
   "cell_type": "code",
   "execution_count": 11,
   "id": "a119313f60357127",
   "metadata": {
    "ExecuteTime": {
     "end_time": "2025-02-22T14:37:39.510171Z",
     "start_time": "2025-02-22T14:37:39.507313Z"
    }
   },
   "outputs": [],
   "source": [
    "DATASETS_FOLDER = \"datasets balanceados\"\n",
    "OUTPUT_FOLDER = \"datasets com score\""
   ]
  },
  {
   "cell_type": "code",
   "execution_count": 12,
   "id": "d6011204d121b99c",
   "metadata": {
    "ExecuteTime": {
     "end_time": "2025-02-22T14:37:41.925001Z",
     "start_time": "2025-02-22T14:37:39.614748Z"
    }
   },
   "outputs": [
    {
     "data": {
      "text/plain": [
       "XLMRobertaForSequenceClassification(\n",
       "  (roberta): XLMRobertaModel(\n",
       "    (embeddings): XLMRobertaEmbeddings(\n",
       "      (word_embeddings): Embedding(250002, 768, padding_idx=1)\n",
       "      (position_embeddings): Embedding(514, 768, padding_idx=1)\n",
       "      (token_type_embeddings): Embedding(1, 768)\n",
       "      (LayerNorm): LayerNorm((768,), eps=1e-05, elementwise_affine=True)\n",
       "      (dropout): Dropout(p=0.1, inplace=False)\n",
       "    )\n",
       "    (encoder): XLMRobertaEncoder(\n",
       "      (layer): ModuleList(\n",
       "        (0-11): 12 x XLMRobertaLayer(\n",
       "          (attention): XLMRobertaAttention(\n",
       "            (self): XLMRobertaSdpaSelfAttention(\n",
       "              (query): Linear(in_features=768, out_features=768, bias=True)\n",
       "              (key): Linear(in_features=768, out_features=768, bias=True)\n",
       "              (value): Linear(in_features=768, out_features=768, bias=True)\n",
       "              (dropout): Dropout(p=0.1, inplace=False)\n",
       "            )\n",
       "            (output): XLMRobertaSelfOutput(\n",
       "              (dense): Linear(in_features=768, out_features=768, bias=True)\n",
       "              (LayerNorm): LayerNorm((768,), eps=1e-05, elementwise_affine=True)\n",
       "              (dropout): Dropout(p=0.1, inplace=False)\n",
       "            )\n",
       "          )\n",
       "          (intermediate): XLMRobertaIntermediate(\n",
       "            (dense): Linear(in_features=768, out_features=3072, bias=True)\n",
       "            (intermediate_act_fn): GELUActivation()\n",
       "          )\n",
       "          (output): XLMRobertaOutput(\n",
       "            (dense): Linear(in_features=3072, out_features=768, bias=True)\n",
       "            (LayerNorm): LayerNorm((768,), eps=1e-05, elementwise_affine=True)\n",
       "            (dropout): Dropout(p=0.1, inplace=False)\n",
       "          )\n",
       "        )\n",
       "      )\n",
       "    )\n",
       "  )\n",
       "  (classifier): XLMRobertaClassificationHead(\n",
       "    (dense): Linear(in_features=768, out_features=768, bias=True)\n",
       "    (dropout): Dropout(p=0.1, inplace=False)\n",
       "    (out_proj): Linear(in_features=768, out_features=3, bias=True)\n",
       "  )\n",
       ")"
      ]
     },
     "execution_count": 12,
     "metadata": {},
     "output_type": "execute_result"
    }
   ],
   "source": [
    "MODEL = f\"cardiffnlp/xlm-roberta-base-tweet-sentiment-pt\"\n",
    "tokenizer = AutoTokenizer.from_pretrained(MODEL)\n",
    "model = AutoModelForSequenceClassification.from_pretrained(MODEL)\n",
    "device = torch.device(\"cuda\" if torch.cuda.is_available() else \"cpu\")\n",
    "model.to(device)"
   ]
  },
  {
   "cell_type": "code",
   "execution_count": 13,
   "id": "df59acf91ddd1138",
   "metadata": {
    "ExecuteTime": {
     "end_time": "2025-02-22T14:37:41.944937Z",
     "start_time": "2025-02-22T14:37:41.940875Z"
    }
   },
   "outputs": [],
   "source": [
    "def polarity_scores(text: str):\n",
    "    try:\n",
    "        encoded = tokenizer(text, return_tensors='pt', truncation=True, max_length=512).to(device)\n",
    "        with torch.no_grad():  # Disable gradient computation for efficiency\n",
    "            output = model(**encoded)\n",
    "        scores = output.logits[0].cpu().numpy()\n",
    "        scores = F.softmax(torch.tensor(scores), dim=0).numpy()  # Apply softmax\n",
    "        negative, neutral, positive = scores\n",
    "\n",
    "        # Normalize negative and positive scores\n",
    "        norm_factor = negative + positive\n",
    "        normalized_scores = {\n",
    "            'negative': negative / norm_factor,\n",
    "            'positive': positive / norm_factor\n",
    "        }\n",
    "        return normalized_scores['positive']\n",
    "    except OverflowError as e:\n",
    "        print(f\"OverflowError: {e} for text: {text}\")"
   ]
  },
  {
   "cell_type": "code",
   "execution_count": 14,
   "id": "e843db265f108020",
   "metadata": {
    "ExecuteTime": {
     "end_time": "2025-02-22T14:37:42.178254Z",
     "start_time": "2025-02-22T14:37:41.988815Z"
    }
   },
   "outputs": [
    {
     "name": "stderr",
     "output_type": "stream",
     "text": [
      "c:\\Users\\Luiz Fernando\\Projects\\ic-hotel\\.venv\\Lib\\site-packages\\torch\\nn\\modules\\module.py:1762: FutureWarning: `encoder_attention_mask` is deprecated and will be removed in version 4.55.0 for `XLMRobertaSdpaSelfAttention.forward`.\n",
      "  return forward_call(*args, **kwargs)\n"
     ]
    },
    {
     "data": {
      "text/plain": [
       "np.float32(0.97456425)"
      ]
     },
     "execution_count": 14,
     "metadata": {},
     "output_type": "execute_result"
    }
   ],
   "source": [
    "polarity_scores(\"comida boa\")  # Test the function"
   ]
  },
  {
   "cell_type": "code",
   "execution_count": 15,
   "id": "c4f9fc0a447aab42",
   "metadata": {
    "ExecuteTime": {
     "end_time": "2025-02-22T14:37:42.197836Z",
     "start_time": "2025-02-22T14:37:42.193748Z"
    }
   },
   "outputs": [],
   "source": [
    "def load_datasets(datasets_folder):\n",
    "    datasets = []\n",
    "    datasets_full_path = []\n",
    "    for root, dirs, files in os.walk(datasets_folder):\n",
    "        for file in files:\n",
    "            if file.endswith(\".csv\"):\n",
    "                datasets.append(file)\n",
    "                datasets_full_path.append(os.path.join(root, file))\n",
    "    return datasets, datasets_full_path"
   ]
  },
  {
   "cell_type": "code",
   "execution_count": 16,
   "id": "cb364b90adb16dd3",
   "metadata": {
    "ExecuteTime": {
     "end_time": "2025-02-22T14:37:42.242718Z",
     "start_time": "2025-02-22T14:37:42.238199Z"
    }
   },
   "outputs": [
    {
     "name": "stdout",
     "output_type": "stream",
     "text": [
      "Found 7 datasets:\n",
      "['bourbon.csv', 'continental.csv', 'foz_plaza.csv', 'nadai.csv', 'taroba.csv', 'viale_cataratas.csv', 'viale_tower.csv']\n"
     ]
    }
   ],
   "source": [
    "datasets, datasets_full_path = load_datasets(DATASETS_FOLDER)\n",
    "print(f\"Found {len(datasets)} datasets:\")\n",
    "print(datasets)"
   ]
  },
  {
   "cell_type": "code",
   "execution_count": 17,
   "id": "928e619db3c48aca",
   "metadata": {
    "ExecuteTime": {
     "end_time": "2025-02-22T14:40:53.294266Z",
     "start_time": "2025-02-22T14:37:42.301248Z"
    }
   },
   "outputs": [
    {
     "data": {
      "application/vnd.jupyter.widget-view+json": {
       "model_id": "9fb6d46470774414b56afb4adb6f79ef",
       "version_major": 2,
       "version_minor": 0
      },
      "text/plain": [
       "Processing datasets:   0%|          | 0/7 [00:00<?, ?it/s]"
      ]
     },
     "metadata": {},
     "output_type": "display_data"
    },
    {
     "name": "stdout",
     "output_type": "stream",
     "text": [
      "Processing bourbon.csv\n"
     ]
    },
    {
     "data": {
      "application/vnd.jupyter.widget-view+json": {
       "model_id": "c5d5b5954141402e8fcffab9d619c48b",
       "version_major": 2,
       "version_minor": 0
      },
      "text/plain": [
       "  0%|          | 0/2064 [00:00<?, ?it/s]"
      ]
     },
     "metadata": {},
     "output_type": "display_data"
    },
    {
     "name": "stderr",
     "output_type": "stream",
     "text": [
      "c:\\Users\\Luiz Fernando\\Projects\\ic-hotel\\.venv\\Lib\\site-packages\\torch\\nn\\modules\\module.py:1762: FutureWarning: `encoder_attention_mask` is deprecated and will be removed in version 4.55.0 for `XLMRobertaSdpaSelfAttention.forward`.\n",
      "  return forward_call(*args, **kwargs)\n"
     ]
    },
    {
     "name": "stdout",
     "output_type": "stream",
     "text": [
      "Processing continental.csv\n"
     ]
    },
    {
     "data": {
      "application/vnd.jupyter.widget-view+json": {
       "model_id": "3f7525ab4d854a319b0d828a2f34e80c",
       "version_major": 2,
       "version_minor": 0
      },
      "text/plain": [
       "  0%|          | 0/510 [00:00<?, ?it/s]"
      ]
     },
     "metadata": {},
     "output_type": "display_data"
    },
    {
     "name": "stderr",
     "output_type": "stream",
     "text": [
      "c:\\Users\\Luiz Fernando\\Projects\\ic-hotel\\.venv\\Lib\\site-packages\\torch\\nn\\modules\\module.py:1762: FutureWarning: `encoder_attention_mask` is deprecated and will be removed in version 4.55.0 for `XLMRobertaSdpaSelfAttention.forward`.\n",
      "  return forward_call(*args, **kwargs)\n"
     ]
    },
    {
     "name": "stdout",
     "output_type": "stream",
     "text": [
      "Processing foz_plaza.csv\n"
     ]
    },
    {
     "data": {
      "application/vnd.jupyter.widget-view+json": {
       "model_id": "e5b329357c6a4eaf8c2d6b4679babb1b",
       "version_major": 2,
       "version_minor": 0
      },
      "text/plain": [
       "  0%|          | 0/742 [00:00<?, ?it/s]"
      ]
     },
     "metadata": {},
     "output_type": "display_data"
    },
    {
     "name": "stderr",
     "output_type": "stream",
     "text": [
      "c:\\Users\\Luiz Fernando\\Projects\\ic-hotel\\.venv\\Lib\\site-packages\\torch\\nn\\modules\\module.py:1762: FutureWarning: `encoder_attention_mask` is deprecated and will be removed in version 4.55.0 for `XLMRobertaSdpaSelfAttention.forward`.\n",
      "  return forward_call(*args, **kwargs)\n"
     ]
    },
    {
     "name": "stdout",
     "output_type": "stream",
     "text": [
      "Processing nadai.csv\n"
     ]
    },
    {
     "data": {
      "application/vnd.jupyter.widget-view+json": {
       "model_id": "f17a970aac19419194b9e0a6823f6e71",
       "version_major": 2,
       "version_minor": 0
      },
      "text/plain": [
       "  0%|          | 0/1214 [00:00<?, ?it/s]"
      ]
     },
     "metadata": {},
     "output_type": "display_data"
    },
    {
     "name": "stderr",
     "output_type": "stream",
     "text": [
      "c:\\Users\\Luiz Fernando\\Projects\\ic-hotel\\.venv\\Lib\\site-packages\\torch\\nn\\modules\\module.py:1762: FutureWarning: `encoder_attention_mask` is deprecated and will be removed in version 4.55.0 for `XLMRobertaSdpaSelfAttention.forward`.\n",
      "  return forward_call(*args, **kwargs)\n"
     ]
    },
    {
     "name": "stdout",
     "output_type": "stream",
     "text": [
      "Processing taroba.csv\n"
     ]
    },
    {
     "data": {
      "application/vnd.jupyter.widget-view+json": {
       "model_id": "48446abb80bf4549b2715fcb5be91752",
       "version_major": 2,
       "version_minor": 0
      },
      "text/plain": [
       "  0%|          | 0/7044 [00:00<?, ?it/s]"
      ]
     },
     "metadata": {},
     "output_type": "display_data"
    },
    {
     "name": "stderr",
     "output_type": "stream",
     "text": [
      "c:\\Users\\Luiz Fernando\\Projects\\ic-hotel\\.venv\\Lib\\site-packages\\torch\\nn\\modules\\module.py:1762: FutureWarning: `encoder_attention_mask` is deprecated and will be removed in version 4.55.0 for `XLMRobertaSdpaSelfAttention.forward`.\n",
      "  return forward_call(*args, **kwargs)\n"
     ]
    },
    {
     "name": "stdout",
     "output_type": "stream",
     "text": [
      "Processing viale_cataratas.csv\n"
     ]
    },
    {
     "data": {
      "application/vnd.jupyter.widget-view+json": {
       "model_id": "43ce38a08e3a490493bd60c833896e80",
       "version_major": 2,
       "version_minor": 0
      },
      "text/plain": [
       "  0%|          | 0/1312 [00:00<?, ?it/s]"
      ]
     },
     "metadata": {},
     "output_type": "display_data"
    },
    {
     "name": "stderr",
     "output_type": "stream",
     "text": [
      "c:\\Users\\Luiz Fernando\\Projects\\ic-hotel\\.venv\\Lib\\site-packages\\torch\\nn\\modules\\module.py:1762: FutureWarning: `encoder_attention_mask` is deprecated and will be removed in version 4.55.0 for `XLMRobertaSdpaSelfAttention.forward`.\n",
      "  return forward_call(*args, **kwargs)\n"
     ]
    },
    {
     "name": "stdout",
     "output_type": "stream",
     "text": [
      "Processing viale_tower.csv\n"
     ]
    },
    {
     "data": {
      "application/vnd.jupyter.widget-view+json": {
       "model_id": "7f711e0a87f4477bae36a78ee088c385",
       "version_major": 2,
       "version_minor": 0
      },
      "text/plain": [
       "  0%|          | 0/1994 [00:00<?, ?it/s]"
      ]
     },
     "metadata": {},
     "output_type": "display_data"
    },
    {
     "name": "stderr",
     "output_type": "stream",
     "text": [
      "c:\\Users\\Luiz Fernando\\Projects\\ic-hotel\\.venv\\Lib\\site-packages\\torch\\nn\\modules\\module.py:1762: FutureWarning: `encoder_attention_mask` is deprecated and will be removed in version 4.55.0 for `XLMRobertaSdpaSelfAttention.forward`.\n",
      "  return forward_call(*args, **kwargs)\n"
     ]
    }
   ],
   "source": [
    "tqdm.pandas()\n",
    "for dataset, dataset_full_path in tqdm(zip(datasets, datasets_full_path), total=len(datasets), desc=\"Processing datasets\"):\n",
    "    print(f\"Processing {dataset}\")\n",
    "    df = pd.read_csv(dataset_full_path)\n",
    "    df['score'] = df['text'].progress_apply(polarity_scores)\n",
    "    df.to_csv(os.path.join(OUTPUT_FOLDER, dataset), index=False)"
   ]
  }
 ],
 "metadata": {
  "kernelspec": {
   "display_name": ".venv",
   "language": "python",
   "name": "python3"
  },
  "language_info": {
   "codemirror_mode": {
    "name": "ipython",
    "version": 3
   },
   "file_extension": ".py",
   "mimetype": "text/x-python",
   "name": "python",
   "nbconvert_exporter": "python",
   "pygments_lexer": "ipython3",
   "version": "3.13.2"
  }
 },
 "nbformat": 4,
 "nbformat_minor": 5
}
